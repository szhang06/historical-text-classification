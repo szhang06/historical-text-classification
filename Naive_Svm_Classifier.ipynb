{
  "nbformat": 4,
  "nbformat_minor": 0,
  "metadata": {
    "colab": {
      "provenance": [],
      "machine_shape": "hm",
      "include_colab_link": true
    },
    "kernelspec": {
      "name": "python3",
      "display_name": "Python 3"
    }
  },
  "cells": [
    {
      "cell_type": "markdown",
      "metadata": {
        "id": "view-in-github",
        "colab_type": "text"
      },
      "source": [
        "<a href=\"https://colab.research.google.com/github/szhang06/nlp-classification/blob/main/Naive_Svm_Classifier.ipynb\" target=\"_parent\"><img src=\"https://colab.research.google.com/assets/colab-badge.svg\" alt=\"Open In Colab\"/></a>"
      ]
    },
    {
      "cell_type": "markdown",
      "source": [
        "#### **Load data**"
      ],
      "metadata": {
        "id": "7VACkuJiO2_r"
      }
    },
    {
      "cell_type": "code",
      "metadata": {
        "colab": {
          "base_uri": "https://localhost:8080/"
        },
        "id": "LFgzKSOJ6LqD",
        "outputId": "87fca069-754b-47ef-b1ef-5b66349dc8e7"
      },
      "source": [
        "from google.colab import drive\n",
        "\n",
        "drive.mount('/content/drive', force_remount=True)"
      ],
      "execution_count": 1,
      "outputs": [
        {
          "output_type": "stream",
          "name": "stdout",
          "text": [
            "Mounted at /content/drive\n"
          ]
        }
      ]
    },
    {
      "cell_type": "code",
      "source": [
        "import csv\n",
        "import os\n",
        "import glob\n",
        "import pandas as pd\n",
        "import numpy as np\n",
        "import seaborn as sn\n",
        "import pandas as pd\n",
        "import matplotlib.pyplot as plt\n",
        "from sklearn.model_selection import train_test_split\n",
        "from sklearn.naive_bayes import MultinomialNB, GaussianNB\n",
        "from sklearn import svm\n",
        "from sklearn.model_selection import GridSearchCV\n",
        "from sklearn.metrics import confusion_matrix\n",
        "from sklearn import metrics\n",
        "\n",
        "import pickle"
      ],
      "metadata": {
        "id": "SZKG1SDQPT2l"
      },
      "execution_count": 2,
      "outputs": []
    },
    {
      "cell_type": "code",
      "metadata": {
        "id": "RYPGqeMd8ORj"
      },
      "source": [
        "path = \"/content/drive/MyDrive/historical_datasets/data_original/\"\n",
        "text_files = glob.glob(path + \"/**/*.txt\", recursive = True)\n",
        "# print(text_files)"
      ],
      "execution_count": 3,
      "outputs": []
    },
    {
      "cell_type": "code",
      "source": [
        "print(len(text_files))"
      ],
      "metadata": {
        "colab": {
          "base_uri": "https://localhost:8080/"
        },
        "id": "FDlj8cY97de7",
        "outputId": "f7a8711d-9366-4bed-bd63-c12dc94b17c1"
      },
      "execution_count": 4,
      "outputs": [
        {
          "output_type": "stream",
          "name": "stdout",
          "text": [
            "1065\n"
          ]
        }
      ]
    },
    {
      "cell_type": "markdown",
      "source": [
        "#### **Data preparation**"
      ],
      "metadata": {
        "id": "IQRJGyk-OJNw"
      }
    },
    {
      "cell_type": "code",
      "metadata": {
        "colab": {
          "base_uri": "https://localhost:8080/"
        },
        "id": "U2c05SjC4TJX",
        "outputId": "265bc8a9-ef4b-4956-a466-b7ad0ab66075"
      },
      "source": [
        "from sklearn.feature_extraction.text import TfidfVectorizer\n",
        "vectorizer = TfidfVectorizer(input = \"filename\",  decode_error='ignore', stop_words=\"english\")\n",
        "X = vectorizer.fit_transform(text_files)\n",
        "# print(vectorizer.get_feature_names_out())\n",
        "print(X.shape)\n"
      ],
      "execution_count": 5,
      "outputs": [
        {
          "output_type": "stream",
          "name": "stdout",
          "text": [
            "(1065, 209799)\n"
          ]
        }
      ]
    },
    {
      "cell_type": "code",
      "source": [
        "labels =  np.array([\"tract\"]*120 + [\"narrative_fiction\"]*128 + [\"bible\"]*649 + [\"treatise\"]*54 + [\"drama\"]*74 + [\"letter\"]*13 +  [\"narrative_non_fiction\"]*27 )"
      ],
      "metadata": {
        "id": "r1p3ijt4m45a"
      },
      "execution_count": 6,
      "outputs": []
    },
    {
      "cell_type": "code",
      "metadata": {
        "id": "ePPOxzGfRwp5"
      },
      "source": [
        "y = np.array(labels)"
      ],
      "execution_count": 7,
      "outputs": []
    },
    {
      "cell_type": "code",
      "metadata": {
        "colab": {
          "base_uri": "https://localhost:8080/"
        },
        "id": "VHcAAVqZawyA",
        "outputId": "f3efeed9-924c-4cc9-8ae4-60703cde9677"
      },
      "source": [
        "print(y.shape)"
      ],
      "execution_count": 8,
      "outputs": [
        {
          "output_type": "stream",
          "name": "stdout",
          "text": [
            "(1065,)\n"
          ]
        }
      ]
    },
    {
      "cell_type": "code",
      "source": [
        "# data split\n",
        "X_train, X_test, y_train, y_test = train_test_split(X, y, test_size = 0.2, random_state = 104, shuffle = True, stratify= y)"
      ],
      "metadata": {
        "id": "73NONJRNqiFd"
      },
      "execution_count": 9,
      "outputs": []
    },
    {
      "cell_type": "markdown",
      "source": [
        "#### **Classification**"
      ],
      "metadata": {
        "id": "Q2-QOUUaxvOd"
      }
    },
    {
      "cell_type": "markdown",
      "source": [
        "##### Naive Bayes Classifier"
      ],
      "metadata": {
        "id": "_WVrvdK6x_6F"
      }
    },
    {
      "cell_type": "code",
      "source": [
        "# multinomial naive bayes\n",
        "mnb = MultinomialNB().fit(X_train, y_train)"
      ],
      "metadata": {
        "id": "LeHCm7JxqsxI"
      },
      "execution_count": 10,
      "outputs": []
    },
    {
      "cell_type": "markdown",
      "source": [
        "#### Performance"
      ],
      "metadata": {
        "id": "pNhG4N_GYleN"
      }
    },
    {
      "cell_type": "code",
      "metadata": {
        "id": "ASLDHcjFWMJn"
      },
      "source": [
        "mnb_predictions = mnb.predict(X_test)"
      ],
      "execution_count": 11,
      "outputs": []
    },
    {
      "cell_type": "code",
      "metadata": {
        "colab": {
          "base_uri": "https://localhost:8080/"
        },
        "id": "yxbtxC4vUxyz",
        "outputId": "c1298f01-01cd-4e2a-fcd6-114f75ea175c"
      },
      "source": [
        "# accuracy on X_test\n",
        "accuracy = mnb.score(X_test, y_test)\n",
        "print(accuracy)"
      ],
      "execution_count": 12,
      "outputs": [
        {
          "output_type": "stream",
          "name": "stdout",
          "text": [
            "0.704225352112676\n"
          ]
        }
      ]
    },
    {
      "cell_type": "code",
      "metadata": {
        "colab": {
          "base_uri": "https://localhost:8080/"
        },
        "id": "5_ax62hPUegz",
        "outputId": "361aa9d8-7522-4796-e6fc-47ec7cba16ad"
      },
      "source": [
        "print(metrics.classification_report(y_test, mnb_predictions))"
      ],
      "execution_count": 13,
      "outputs": [
        {
          "output_type": "stream",
          "name": "stdout",
          "text": [
            "                       precision    recall  f1-score   support\n",
            "\n",
            "                bible       0.73      1.00      0.84       130\n",
            "                drama       0.00      0.00      0.00        15\n",
            "               letter       0.00      0.00      0.00         2\n",
            "    narrative_fiction       0.50      0.46      0.48        26\n",
            "narrative_non_fiction       0.00      0.00      0.00         5\n",
            "                tract       0.78      0.29      0.42        24\n",
            "             treatise       1.00      0.09      0.17        11\n",
            "\n",
            "             accuracy                           0.70       213\n",
            "            macro avg       0.43      0.26      0.27       213\n",
            "         weighted avg       0.64      0.70      0.63       213\n",
            "\n"
          ]
        },
        {
          "output_type": "stream",
          "name": "stderr",
          "text": [
            "/usr/local/lib/python3.8/dist-packages/sklearn/metrics/_classification.py:1318: UndefinedMetricWarning: Precision and F-score are ill-defined and being set to 0.0 in labels with no predicted samples. Use `zero_division` parameter to control this behavior.\n",
            "  _warn_prf(average, modifier, msg_start, len(result))\n",
            "/usr/local/lib/python3.8/dist-packages/sklearn/metrics/_classification.py:1318: UndefinedMetricWarning: Precision and F-score are ill-defined and being set to 0.0 in labels with no predicted samples. Use `zero_division` parameter to control this behavior.\n",
            "  _warn_prf(average, modifier, msg_start, len(result))\n",
            "/usr/local/lib/python3.8/dist-packages/sklearn/metrics/_classification.py:1318: UndefinedMetricWarning: Precision and F-score are ill-defined and being set to 0.0 in labels with no predicted samples. Use `zero_division` parameter to control this behavior.\n",
            "  _warn_prf(average, modifier, msg_start, len(result))\n"
          ]
        }
      ]
    },
    {
      "cell_type": "code",
      "source": [
        "# Categorical nb classifier\n",
        "gnb =GaussianNB()\n",
        "gnb.fit(X_train.toarray(),y_train)\n",
        "gnb.score(X_test.toarray(),y_test)"
      ],
      "metadata": {
        "colab": {
          "base_uri": "https://localhost:8080/"
        },
        "id": "KyqSy07Gzsds",
        "outputId": "b82dc781-7de6-4682-9de5-5fd1619f950c"
      },
      "execution_count": 14,
      "outputs": [
        {
          "output_type": "execute_result",
          "data": {
            "text/plain": [
              "0.8028169014084507"
            ]
          },
          "metadata": {},
          "execution_count": 14
        }
      ]
    },
    {
      "cell_type": "code",
      "source": [
        "gnb_predictions = gnb.predict(X_test.toarray())"
      ],
      "metadata": {
        "id": "CvVRNTq30diQ"
      },
      "execution_count": 15,
      "outputs": []
    },
    {
      "cell_type": "code",
      "source": [
        "print(metrics.classification_report(y_test, mnb_predictions))"
      ],
      "metadata": {
        "colab": {
          "base_uri": "https://localhost:8080/"
        },
        "id": "WkHcJ5Ar0MbZ",
        "outputId": "bfb14bb5-efe5-4b9a-8966-1026829f7dc0"
      },
      "execution_count": 16,
      "outputs": [
        {
          "output_type": "stream",
          "name": "stdout",
          "text": [
            "                       precision    recall  f1-score   support\n",
            "\n",
            "                bible       0.73      1.00      0.84       130\n",
            "                drama       0.00      0.00      0.00        15\n",
            "               letter       0.00      0.00      0.00         2\n",
            "    narrative_fiction       0.50      0.46      0.48        26\n",
            "narrative_non_fiction       0.00      0.00      0.00         5\n",
            "                tract       0.78      0.29      0.42        24\n",
            "             treatise       1.00      0.09      0.17        11\n",
            "\n",
            "             accuracy                           0.70       213\n",
            "            macro avg       0.43      0.26      0.27       213\n",
            "         weighted avg       0.64      0.70      0.63       213\n",
            "\n"
          ]
        },
        {
          "output_type": "stream",
          "name": "stderr",
          "text": [
            "/usr/local/lib/python3.8/dist-packages/sklearn/metrics/_classification.py:1318: UndefinedMetricWarning: Precision and F-score are ill-defined and being set to 0.0 in labels with no predicted samples. Use `zero_division` parameter to control this behavior.\n",
            "  _warn_prf(average, modifier, msg_start, len(result))\n",
            "/usr/local/lib/python3.8/dist-packages/sklearn/metrics/_classification.py:1318: UndefinedMetricWarning: Precision and F-score are ill-defined and being set to 0.0 in labels with no predicted samples. Use `zero_division` parameter to control this behavior.\n",
            "  _warn_prf(average, modifier, msg_start, len(result))\n",
            "/usr/local/lib/python3.8/dist-packages/sklearn/metrics/_classification.py:1318: UndefinedMetricWarning: Precision and F-score are ill-defined and being set to 0.0 in labels with no predicted samples. Use `zero_division` parameter to control this behavior.\n",
            "  _warn_prf(average, modifier, msg_start, len(result))\n"
          ]
        }
      ]
    },
    {
      "cell_type": "markdown",
      "source": [
        "##### SVM classifier"
      ],
      "metadata": {
        "id": "1486iMSDP_eg"
      }
    },
    {
      "cell_type": "code",
      "source": [
        "# linearsvc\n",
        "clf = svm.SVC(C=10, kernel='linear', gamma='auto')\n",
        "lsvc = clf.fit(X_train, y_train)"
      ],
      "metadata": {
        "id": "qqMHnCbjYvam"
      },
      "execution_count": 17,
      "outputs": []
    },
    {
      "cell_type": "markdown",
      "source": [
        "#### Performance"
      ],
      "metadata": {
        "id": "pTW0_0jhYyxr"
      }
    },
    {
      "cell_type": "code",
      "metadata": {
        "colab": {
          "base_uri": "https://localhost:8080/"
        },
        "id": "G_7HqIpImc44",
        "outputId": "27306e61-aab5-4be4-ac81-88dc2cc0301c"
      },
      "source": [
        "lsvc_predictions = lsvc.predict(X_test)\n",
        "accuracy = lsvc.score(X_test, y_test)\n",
        "print(accuracy)"
      ],
      "execution_count": 18,
      "outputs": [
        {
          "output_type": "stream",
          "name": "stdout",
          "text": [
            "0.9530516431924883\n"
          ]
        }
      ]
    },
    {
      "cell_type": "code",
      "metadata": {
        "colab": {
          "base_uri": "https://localhost:8080/"
        },
        "id": "fGoUgaCemqNP",
        "outputId": "827feafa-b0c0-435a-8bdc-1adc0fd9e44f"
      },
      "source": [
        "print(metrics.classification_report(y_test, lsvc_predictions))"
      ],
      "execution_count": 19,
      "outputs": [
        {
          "output_type": "stream",
          "name": "stdout",
          "text": [
            "                       precision    recall  f1-score   support\n",
            "\n",
            "                bible       1.00      1.00      1.00       130\n",
            "                drama       1.00      0.87      0.93        15\n",
            "               letter       1.00      1.00      1.00         2\n",
            "    narrative_fiction       0.89      0.92      0.91        26\n",
            "narrative_non_fiction       0.60      0.60      0.60         5\n",
            "                tract       0.86      1.00      0.92        24\n",
            "             treatise       0.88      0.64      0.74        11\n",
            "\n",
            "             accuracy                           0.95       213\n",
            "            macro avg       0.89      0.86      0.87       213\n",
            "         weighted avg       0.95      0.95      0.95       213\n",
            "\n"
          ]
        }
      ]
    },
    {
      "cell_type": "markdown",
      "source": [
        "#### Hyperparameter tuning for svm"
      ],
      "metadata": {
        "id": "-GgB8KE1GiJX"
      }
    },
    {
      "cell_type": "code",
      "source": [
        "parameters = {'kernel':('linear', 'poly', 'rbf'), 'C':[0.1,1,8,16,32]}\n",
        "svc = svm.SVC()\n",
        "clf = GridSearchCV(svc, parameters, cv=5)\n",
        "clf.fit(X_train, y_train)"
      ],
      "metadata": {
        "colab": {
          "base_uri": "https://localhost:8080/"
        },
        "id": "NKQBbPYYyOSZ",
        "outputId": "88ef2572-2766-407d-9e94-28efc1f185e0"
      },
      "execution_count": 20,
      "outputs": [
        {
          "output_type": "execute_result",
          "data": {
            "text/plain": [
              "GridSearchCV(cv=5, estimator=SVC(),\n",
              "             param_grid={'C': [0.1, 1, 8, 16, 32],\n",
              "                         'kernel': ('linear', 'poly', 'rbf')})"
            ]
          },
          "metadata": {},
          "execution_count": 20
        }
      ]
    },
    {
      "cell_type": "code",
      "source": [
        "svm_predictor = clf.predict(X_test)"
      ],
      "metadata": {
        "id": "dBuCi32bRNp0"
      },
      "execution_count": 21,
      "outputs": []
    },
    {
      "cell_type": "code",
      "source": [
        "clf.score(X_test, y_test)"
      ],
      "metadata": {
        "colab": {
          "base_uri": "https://localhost:8080/"
        },
        "id": "HtQQRAtWG8on",
        "outputId": "2d5497fc-48e1-422e-b36b-e46105598d82"
      },
      "execution_count": 22,
      "outputs": [
        {
          "output_type": "execute_result",
          "data": {
            "text/plain": [
              "0.9530516431924883"
            ]
          },
          "metadata": {},
          "execution_count": 22
        }
      ]
    },
    {
      "cell_type": "code",
      "source": [
        "print(metrics.classification_report(y_test, svm_predictor))"
      ],
      "metadata": {
        "colab": {
          "base_uri": "https://localhost:8080/"
        },
        "id": "_rF0BiPPRJyK",
        "outputId": "5351268f-c019-417a-b2d3-356ca28c1772"
      },
      "execution_count": 23,
      "outputs": [
        {
          "output_type": "stream",
          "name": "stdout",
          "text": [
            "                       precision    recall  f1-score   support\n",
            "\n",
            "                bible       1.00      1.00      1.00       130\n",
            "                drama       1.00      0.87      0.93        15\n",
            "               letter       1.00      1.00      1.00         2\n",
            "    narrative_fiction       0.89      0.92      0.91        26\n",
            "narrative_non_fiction       0.60      0.60      0.60         5\n",
            "                tract       0.86      1.00      0.92        24\n",
            "             treatise       0.88      0.64      0.74        11\n",
            "\n",
            "             accuracy                           0.95       213\n",
            "            macro avg       0.89      0.86      0.87       213\n",
            "         weighted avg       0.95      0.95      0.95       213\n",
            "\n"
          ]
        }
      ]
    },
    {
      "cell_type": "code",
      "source": [
        "labels = [\"bible\", \"drama\", \"letter\", \"narrative_fiction\", \"narrative_non_fiction\", \"tract\", \"treatise\"]\n",
        "\n",
        "cm = confusion_matrix(y_test, svm_predictor, labels=labels)\n",
        "df_cm = pd.DataFrame(cm, index=labels, columns=labels)\n",
        "\n",
        "sn.heatmap(df_cm, annot=True, fmt='d')\n",
        "plt.show()"
      ],
      "metadata": {
        "colab": {
          "base_uri": "https://localhost:8080/",
          "height": 361
        },
        "id": "cOQA3qLSps3E",
        "outputId": "cb2d9640-f152-4f97-ab70-42b7f69d0ff4"
      },
      "execution_count": 24,
      "outputs": [
        {
          "output_type": "display_data",
          "data": {
            "text/plain": [
              "<Figure size 432x288 with 2 Axes>"
            ],
            "image/png": "[encoded data removed]"
          },
          "metadata": {
            "needs_background": "light"
          }
        }
      ]
    },
    {
      "cell_type": "markdown",
      "source": [
        "#### **Save the model**"
      ],
      "metadata": {
        "id": "GnqXqm-VY3aa"
      }
    },
    {
      "cell_type": "code",
      "source": [
        "with open('/content/model/svm_classifier.pkl', 'wb') as f:\n",
        "    pickle.dump(clf, f)\n",
        "with open('/content/model/mnb_classifier.pkl', 'wb') as f:\n",
        "    pickle.dump(mnb, f) \n"
      ],
      "metadata": {
        "id": "0D1fhPFLY6ab"
      },
      "execution_count": 25,
      "outputs": []
    }
  ]
}