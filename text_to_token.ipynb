{
  "nbformat": 4,
  "nbformat_minor": 0,
  "metadata": {
    "colab": {
      "provenance": [],
      "machine_shape": "hm",
      "include_colab_link": true
    },
    "kernelspec": {
      "display_name": "Python 3",
      "name": "python3"
    }
  },
  "cells": [
    {
      "cell_type": "markdown",
      "metadata": {
        "id": "view-in-github",
        "colab_type": "text"
      },
      "source": [
        "<a href=\"https://colab.research.google.com/github/szhang06/historical-text-classification/blob/main/text_to_token.ipynb\" target=\"_parent\"><img src=\"https://colab.research.google.com/assets/colab-badge.svg\" alt=\"Open In Colab\"/></a>"
      ]
    },
    {
      "cell_type": "markdown",
      "source": [
        "#### Convert raw data to tokens for spelling normalization"
      ],
      "metadata": {
        "id": "teZbnI-i1brO"
      }
    },
    {
      "cell_type": "code",
      "metadata": {
        "colab": {
          "base_uri": "https://localhost:8080/"
        },
        "id": "skuerasUIwPv",
        "outputId": "e08b3292-8d24-4ba5-e447-8d9b01df1b1d"
      },
      "source": [
        "from google.colab import drive\n",
        "drive.mount('/content/drive')"
      ],
      "execution_count": null,
      "outputs": [
        {
          "output_type": "stream",
          "name": "stdout",
          "text": [
            "Mounted at /content/drive\n"
          ]
        }
      ]
    },
    {
      "cell_type": "code",
      "metadata": {
        "colab": {
          "base_uri": "https://localhost:8080/"
        },
        "id": "PP27v0NdvH4H",
        "outputId": "ce11019f-39bc-42e0-c53a-b2acde06e9be"
      },
      "source": [
        "import nltk\n",
        "nltk.download('punkt')"
      ],
      "execution_count": null,
      "outputs": [
        {
          "output_type": "stream",
          "name": "stderr",
          "text": [
            "[nltk_data] Downloading package punkt to /root/nltk_data...\n",
            "[nltk_data]   Unzipping tokenizers/punkt.zip.\n"
          ]
        },
        {
          "output_type": "execute_result",
          "data": {
            "text/plain": [
              "True"
            ]
          },
          "metadata": {},
          "execution_count": 2
        }
      ]
    },
    {
      "cell_type": "code",
      "metadata": {
        "id": "M-xo4vk2RsFE"
      },
      "source": [
        "import os\n",
        "import glob\n",
        "import re\n",
        "import html\n",
        "import nltk"
      ],
      "execution_count": null,
      "outputs": []
    },
    {
      "cell_type": "code",
      "metadata": {
        "id": "rkOSAfDjL0W1"
      },
      "source": [
        "path = \"/content/drive/MyDrive/research_project_2021/data_text/clemet_lets/\"\n",
        "\n",
        "def processInput(f):\n",
        "  for line in f:\n",
        "    line = line.strip()\n",
        "    line = line.lower()\n",
        "    line = html.unescape(line) # html entities -> unicode characters\n",
        "\n",
        "    if line == \"\":\n",
        "      fw.write(\"\\n\")\n",
        "    else:\n",
        "      sents = nltk.sent_tokenize(line)\n",
        "      for sent in sents:\n",
        "          tokens = nltk.word_tokenize(sent)\n",
        "          for token in tokens:\n",
        "              letters = list(token)\n",
        "              for letter in letters:                \n",
        "                  fw.write(letter + \" \")\n",
        "              fw.write(\"\\n\")\n",
        "          fw.write(\"\\n\")\n",
        "\n",
        "os.chdir(path)\n",
        "extension = 'txt'\n",
        "\n",
        "\n",
        "entries = os.listdir(path)\n",
        "for i, entry in enumerate(entries):\n",
        "    with open(path + entry, \"r\", encoding=\"ISO-8859-1\") as f:\n",
        "      fw = open(f\"/content/drive/MyDrive/research_project_2021/data_tokens/letter_t/letter_t_{i}.txt\", \"w\", encoding=\"ISO-8859-1\")\n",
        "      processInput(f)\n"
      ],
      "execution_count": null,
      "outputs": []
    }
  ]
}